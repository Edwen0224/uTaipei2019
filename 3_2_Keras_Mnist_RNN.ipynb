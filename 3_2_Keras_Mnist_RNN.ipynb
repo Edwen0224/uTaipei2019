{
  "nbformat": 4,
  "nbformat_minor": 0,
  "metadata": {
    "colab": {
      "name": "3_1_a_Keras_Mnist_RNN.ipynb",
      "version": "0.3.2",
      "provenance": [],
      "collapsed_sections": [],
      "include_colab_link": true
    },
    "kernelspec": {
      "name": "python3",
      "display_name": "Python 3"
    }
  },
  "cells": [
    {
      "cell_type": "markdown",
      "metadata": {
        "id": "view-in-github",
        "colab_type": "text"
      },
      "source": [
        "<a href=\"https://colab.research.google.com/github/MyDearGreatTeacher/uTaipei2019/blob/master/3_2_Keras_Mnist_RNN.ipynb\" target=\"_parent\"><img src=\"https://colab.research.google.com/assets/colab-badge.svg\" alt=\"Open In Colab\"/></a>"
      ]
    },
    {
      "cell_type": "code",
      "metadata": {
        "id": "WqMxOy6VwNks",
        "colab_type": "code",
        "colab": {}
      },
      "source": [
        "from keras.layers import SimpleRNN,LSTM,Dropout,Dense\n",
        "import numpy as np\n",
        "from keras.utils import np_utils\n",
        "np.random.seed(10)\n",
        "from keras.datasets import mnist\n",
        "import matplotlib.pyplot as plt\n",
        "from keras.models import *\n",
        "#from keras.models import Sequential"
      ],
      "execution_count": 0,
      "outputs": []
    },
    {
      "cell_type": "markdown",
      "metadata": {
        "id": "0G38tNGJwzX1",
        "colab_type": "text"
      },
      "source": [
        "### 資料預處理:pre-processing\n"
      ]
    },
    {
      "cell_type": "code",
      "metadata": {
        "id": "yXI6sun0wSgq",
        "colab_type": "code",
        "colab": {}
      },
      "source": [
        "#建立訓練資料和測試資料，包括訓練特徵集、訓練標籤和測試特徵集、測試標籤\t\n",
        "(train_feature, train_label),\\\n",
        "(test_feature, test_label) = mnist.load_data()  \n",
        "\n",
        "#將 Features 特徵值換為 60000*28*28 的 3 維矩陣\n",
        "train_feature_vector = train_feature.reshape(len(train_feature),28,28).astype('float32')\n",
        "test_feature_vector = test_feature.reshape(len(test_feature),28,28).astype('float32')\n",
        "\n",
        "#Features 特徵值標準化\n",
        "train_feature_normalize = train_feature_vector/255\n",
        "test_feature_normalize = test_feature_vector/255\n",
        "\n",
        "#label 轉換為 One-Hot Encoding 編碼\n",
        "train_label_onehot = np_utils.to_categorical(train_label)\n",
        "test_label_onehot = np_utils.to_categorical(test_label)"
      ],
      "execution_count": 0,
      "outputs": []
    },
    {
      "cell_type": "markdown",
      "metadata": {
        "id": "tDQlN3-Mw95_",
        "colab_type": "text"
      },
      "source": [
        "### 建立模型 1\n",
        "```\n",
        "SimpleRNN準確率= 0.9744\n",
        "\n",
        "LSTM 準確率= 0.9809\n",
        "loss: 0.0321 - acc: 0.9899 - val_loss: 0.0644 - val_acc: 0.9805\n",
        "```"
      ]
    },
    {
      "cell_type": "code",
      "metadata": {
        "id": "zb71taRdyke7",
        "colab_type": "code",
        "colab": {}
      },
      "source": [
        "model = Sequential()"
      ],
      "execution_count": 0,
      "outputs": []
    },
    {
      "cell_type": "markdown",
      "metadata": {
        "id": "7ZFnQzWBynZT",
        "colab_type": "text"
      },
      "source": [
        "### 使用Simple RNN"
      ]
    },
    {
      "cell_type": "code",
      "metadata": {
        "id": "dsniSqPqymr9",
        "colab_type": "code",
        "colab": {}
      },
      "source": [
        "model.add(SimpleRNN(\n",
        "    # input_shape=(TIME_STEPS, INPUT_SIZE)\n",
        "    # TIME_STEPS 讀取次數，INPUT_SIZE 每次讀取多少個像素\n",
        "    input_shape=(28, 28), \n",
        "    units=256, # 隱藏層：256 個神經元\n",
        "    unroll=True, #計算時展開結構\n",
        ")) "
      ],
      "execution_count": 0,
      "outputs": []
    },
    {
      "cell_type": "markdown",
      "metadata": {
        "id": "hv2CAbRYygLp",
        "colab_type": "text"
      },
      "source": [
        "### 使用LSTM"
      ]
    },
    {
      "cell_type": "code",
      "metadata": {
        "id": "5Q2wgsD_yfBD",
        "colab_type": "code",
        "colab": {}
      },
      "source": [
        "model.add(LSTM(\n",
        "    input_shape=( 28, 28),\n",
        "    units=256,\n",
        "    unroll=True\n",
        "))"
      ],
      "execution_count": 0,
      "outputs": []
    },
    {
      "cell_type": "markdown",
      "metadata": {
        "id": "NIBYbr3WyxH5",
        "colab_type": "text"
      },
      "source": [
        "### 加上Dropout層防止過度擬合，拋棄比例:0.1"
      ]
    },
    {
      "cell_type": "code",
      "metadata": {
        "id": "npDDwpHbwWnA",
        "colab_type": "code",
        "colab": {}
      },
      "source": [
        "model.add(Dropout(0.1))"
      ],
      "execution_count": 0,
      "outputs": []
    },
    {
      "cell_type": "markdown",
      "metadata": {
        "id": "y9kJgPvjy6xB",
        "colab_type": "text"
      },
      "source": [
        "### 最後加上輸出層"
      ]
    },
    {
      "cell_type": "code",
      "metadata": {
        "id": "YNvvHzX_zEQG",
        "colab_type": "code",
        "colab": {}
      },
      "source": [
        "model.add(Dense(units=10, kernel_initializer='normal', activation='softmax'))"
      ],
      "execution_count": 0,
      "outputs": []
    },
    {
      "cell_type": "markdown",
      "metadata": {
        "id": "KI9AX1TzzFla",
        "colab_type": "text"
      },
      "source": [
        "### 顯示你的網路模型結構"
      ]
    },
    {
      "cell_type": "code",
      "metadata": {
        "id": "C8nNnCKqxIr1",
        "colab_type": "code",
        "colab": {}
      },
      "source": [
        "model.summary()"
      ],
      "execution_count": 0,
      "outputs": []
    },
    {
      "cell_type": "markdown",
      "metadata": {
        "id": "cPDKxsAOxNCu",
        "colab_type": "text"
      },
      "source": [
        "### 定義訓練方式:選擇損失函數、優化方法及成效衡量方式"
      ]
    },
    {
      "cell_type": "code",
      "metadata": {
        "id": "NIlz46-KwcS0",
        "colab_type": "code",
        "colab": {}
      },
      "source": [
        "model.compile(loss='categorical_crossentropy', \n",
        "              optimizer='adam', metrics=['accuracy'])"
      ],
      "execution_count": 0,
      "outputs": []
    },
    {
      "cell_type": "markdown",
      "metadata": {
        "id": "4tAFzOjyxRa_",
        "colab_type": "text"
      },
      "source": [
        "### 訓練:\n",
        "```\n",
        "#以(train_feature_normalize,train_label_onehot)資料訓練，\n",
        "#訓練資料保留 20% 作驗證,訓練10次、每批次讀取200筆資料，顯示簡易訓練過程\n",
        "\n",
        "```"
      ]
    },
    {
      "cell_type": "code",
      "metadata": {
        "id": "K5DiEpY7wl7V",
        "colab_type": "code",
        "colab": {}
      },
      "source": [
        "train_history =model.fit(x=train_feature_normalize,\n",
        "                         y=train_label_onehot,validation_split=0.2, \n",
        "                         epochs=10, batch_size=200,verbose=2)    "
      ],
      "execution_count": 0,
      "outputs": []
    },
    {
      "cell_type": "markdown",
      "metadata": {
        "id": "LFWLtQiOxfCv",
        "colab_type": "text"
      },
      "source": [
        "### 評估準確率"
      ]
    },
    {
      "cell_type": "code",
      "metadata": {
        "id": "j8BwoAi6wrFt",
        "colab_type": "code",
        "colab": {}
      },
      "source": [
        "scores = model.evaluate(test_feature_normalize, test_label_onehot)\n",
        "print('\\n準確率=',scores[1])"
      ],
      "execution_count": 0,
      "outputs": []
    },
    {
      "cell_type": "markdown",
      "metadata": {
        "id": "wZQzcEndxjcz",
        "colab_type": "text"
      },
      "source": [
        "### 預測"
      ]
    },
    {
      "cell_type": "code",
      "metadata": {
        "id": "QR9pmiqLwtgf",
        "colab_type": "code",
        "colab": {}
      },
      "source": [
        "prediction=model.predict_classes(test_feature_normalize)\n",
        "prediction"
      ],
      "execution_count": 0,
      "outputs": []
    }
  ]
}