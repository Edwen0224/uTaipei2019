{
  "nbformat": 4,
  "nbformat_minor": 0,
  "metadata": {
    "colab": {
      "name": "2_3_Keras_MLP_MNIST.ipynb",
      "version": "0.3.2",
      "provenance": [],
      "collapsed_sections": [],
      "include_colab_link": true
    },
    "language_info": {
      "codemirror_mode": {
        "name": "ipython",
        "version": 3
      },
      "file_extension": ".py",
      "mimetype": "text/x-python",
      "name": "python",
      "nbconvert_exporter": "python",
      "pygments_lexer": "ipython3",
      "version": "3.5.5"
    },
    "kernelspec": {
      "display_name": "Python 3",
      "language": "python",
      "name": "python3"
    }
  },
  "cells": [
    {
      "cell_type": "markdown",
      "metadata": {
        "id": "view-in-github",
        "colab_type": "text"
      },
      "source": [
        "<a href=\"https://colab.research.google.com/github/MyDearGreatTeacher/uTaipei2019/blob/master/2_3_Keras_MLP_MNIST.ipynb\" target=\"_parent\"><img src=\"https://colab.research.google.com/assets/colab-badge.svg\" alt=\"Open In Colab\"/></a>"
      ]
    },
    {
      "cell_type": "markdown",
      "metadata": {
        "id": "CiiDSmauM698",
        "colab_type": "text"
      },
      "source": [
        "#  Keras_MLP_MNIST\n",
        "\n",
        "實戰 TensorFlow x Keras 工作現場開發 \n",
        "\n",
        "太田滿久, 須藤広大, 黒澤匠雅, 小田... 許郁文\n",
        " \n",
        "碁峰資訊 2019-03-25\n",
        "\n",
        "Chapter 4 神經網路與 Keras"
      ]
    },
    {
      "cell_type": "markdown",
      "metadata": {
        "id": "oNdXPppzM69-",
        "colab_type": "text"
      },
      "source": [
        "##  Keras Sequential 開發模式:載入資料集"
      ]
    },
    {
      "cell_type": "code",
      "metadata": {
        "id": "dt9W9YW7M69_",
        "colab_type": "code",
        "colab": {}
      },
      "source": [
        "from tensorflow.python.keras.datasets import mnist\n",
        "\n",
        "(x_train, y_train), (x_test, y_test) = mnist.load_data()"
      ],
      "execution_count": 0,
      "outputs": []
    },
    {
      "cell_type": "markdown",
      "metadata": {
        "id": "JuO3r3nFM6-G",
        "colab_type": "text"
      },
      "source": [
        "### 查看資料"
      ]
    },
    {
      "cell_type": "code",
      "metadata": {
        "id": "hcAT87zDM6-H",
        "colab_type": "code",
        "colab": {}
      },
      "source": [
        "print('x_train.shape:', x_train.shape)\n",
        "print('x_test.shape:', x_test.shape)\n",
        "print('y_train.shape:', y_train.shape)\n",
        "print('y_test.shape:', y_test.shape)"
      ],
      "execution_count": 0,
      "outputs": []
    },
    {
      "cell_type": "markdown",
      "metadata": {
        "id": "nUP1rcTjM6-L",
        "colab_type": "text"
      },
      "source": [
        "### 轉換::28*28=784"
      ]
    },
    {
      "cell_type": "code",
      "metadata": {
        "id": "FRf4lGHBM6-M",
        "colab_type": "code",
        "colab": {}
      },
      "source": [
        "x_train = x_train.reshape(60000, 784)\n",
        "x_test = x_test.reshape(10000, 784)"
      ],
      "execution_count": 0,
      "outputs": []
    },
    {
      "cell_type": "markdown",
      "metadata": {
        "id": "4d9R3VOXGW02",
        "colab_type": "text"
      },
      "source": [
        "### 正規化Normalization"
      ]
    },
    {
      "cell_type": "code",
      "metadata": {
        "id": "jmu8E9ioGTZq",
        "colab_type": "code",
        "colab": {}
      },
      "source": [
        "x_train = x_train/255.\n",
        "x_test = x_test/255."
      ],
      "execution_count": 0,
      "outputs": []
    },
    {
      "cell_type": "markdown",
      "metadata": {
        "id": "prsQ6s4GM6-P",
        "colab_type": "text"
      },
      "source": [
        "## one-shot encoding"
      ]
    },
    {
      "cell_type": "code",
      "metadata": {
        "id": "WtwkvSw4M6-Q",
        "colab_type": "code",
        "colab": {}
      },
      "source": [
        "from tensorflow.python.keras.utils import to_categorical\n",
        "\n",
        "\n",
        "y_train = to_categorical(y_train, 10)\n",
        "y_test = to_categorical(y_test, 10)"
      ],
      "execution_count": 0,
      "outputs": []
    },
    {
      "cell_type": "markdown",
      "metadata": {
        "id": "7_l5YnxnM6-S",
        "colab_type": "text"
      },
      "source": [
        "## 定義(建置)MLP神經網路"
      ]
    },
    {
      "cell_type": "code",
      "metadata": {
        "id": "wETNq2MrM6-T",
        "colab_type": "code",
        "outputId": "7fea2014-86fa-4166-81e2-55e51915b996",
        "colab": {
          "base_uri": "https://localhost:8080/",
          "height": 88
        }
      },
      "source": [
        "from tensorflow.python.keras.models import Sequential\n",
        "from tensorflow.python.keras.layers import Dense\n",
        "\n",
        "model = Sequential()\n",
        "\n",
        "#增加 Hidden Layer\n",
        "#有64個神經元\n",
        "#測試報告:改看看128, 256,1000)\n",
        "\n",
        "model.add(\n",
        "    Dense(\n",
        "        units=64, \n",
        "        input_shape=(784,),\n",
        "        activation='relu'\n",
        "    )\n",
        ")\n",
        "\n",
        "\n",
        "# 測試報告:增加dropout layer\n",
        "# Why? 避免overfitting\n",
        "# from tensorflow.python.keras.layers import Dropout\n",
        "# nodel.add(Dropout(0.5))\n",
        "\n",
        "#最後加上輸出層 Output Layer:\n",
        "#activation激活函數用softmax\n",
        "#units=10[數字0-9共10種類別] \n",
        "\n",
        "model.add(\n",
        "    Dense(\n",
        "        units=10, \n",
        "        activation='softmax'\n",
        "    )\n",
        ")"
      ],
      "execution_count": 0,
      "outputs": [
        {
          "output_type": "stream",
          "text": [
            "WARNING:tensorflow:From /usr/local/lib/python3.6/dist-packages/tensorflow/python/ops/resource_variable_ops.py:435: colocate_with (from tensorflow.python.framework.ops) is deprecated and will be removed in a future version.\n",
            "Instructions for updating:\n",
            "Colocations handled automatically by placer.\n"
          ],
          "name": "stdout"
        }
      ]
    },
    {
      "cell_type": "code",
      "metadata": {
        "id": "3jbmOPWe9WtR",
        "colab_type": "code",
        "colab": {}
      },
      "source": [
        "model.summary()"
      ],
      "execution_count": 0,
      "outputs": []
    },
    {
      "cell_type": "markdown",
      "metadata": {
        "id": "WKQB63hrIHdc",
        "colab_type": "text"
      },
      "source": [
        "## 設定模型的執行項目"
      ]
    },
    {
      "cell_type": "code",
      "metadata": {
        "id": "3Ivd3oSTH79s",
        "colab_type": "code",
        "colab": {}
      },
      "source": [
        "model.compile(\n",
        "    optimizer='adam',\n",
        "    loss='categorical_crossentropy',\n",
        "    metrics=['accuracy']\n",
        ")"
      ],
      "execution_count": 0,
      "outputs": []
    },
    {
      "cell_type": "markdown",
      "metadata": {
        "id": "QjHmYdpvM6-g",
        "colab_type": "text"
      },
      "source": [
        "## 訓練"
      ]
    },
    {
      "cell_type": "code",
      "metadata": {
        "colab_type": "code",
        "id": "YArIY2wUIVg2",
        "colab": {}
      },
      "source": [
        "history_adam = model.fit(\n",
        "    x_train,\n",
        "    y_train,\n",
        "    batch_size=32,\n",
        "    epochs=20,\n",
        "    validation_split=0.2,\n",
        ")"
      ],
      "execution_count": 0,
      "outputs": []
    }
  ]
}