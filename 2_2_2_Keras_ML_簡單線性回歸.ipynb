{
  "nbformat": 4,
  "nbformat_minor": 0,
  "metadata": {
    "colab": {
      "name": "2_2_2_Keras_ML_簡單線性回歸.ipynb",
      "version": "0.3.2",
      "provenance": [],
      "include_colab_link": true
    },
    "kernelspec": {
      "name": "python3",
      "display_name": "Python 3"
    }
  },
  "cells": [
    {
      "cell_type": "markdown",
      "metadata": {
        "id": "view-in-github",
        "colab_type": "text"
      },
      "source": [
        "<a href=\"https://colab.research.google.com/github/MyDearGreatTeacher/uTaipei2019/blob/master/2_2_2_Keras_ML_%E7%B0%A1%E5%96%AE%E7%B7%9A%E6%80%A7%E5%9B%9E%E6%AD%B8.ipynb\" target=\"_parent\"><img src=\"https://colab.research.google.com/assets/colab-badge.svg\" alt=\"Open In Colab\"/></a>"
      ]
    },
    {
      "cell_type": "markdown",
      "metadata": {
        "id": "XOCsHLueLtxH",
        "colab_type": "text"
      },
      "source": [
        "# 使用keras建置神經網路求解簡單線性回歸問題\n",
        "\n",
        "simple linear regression \n",
        "\n",
        "https://morvanzhou.github.io/tutorials/machine-learning/keras/2-1-regressor/"
      ]
    },
    {
      "cell_type": "markdown",
      "metadata": {
        "id": "aefXs8bCMl6p",
        "colab_type": "text"
      },
      "source": [
        "YOUTUBE影片教學\n",
        "\n",
        "\n",
        "Linear Regression in Keras\n",
        "https://www.youtube.com/watch?v=rgQxVdOr9b8"
      ]
    },
    {
      "cell_type": "code",
      "metadata": {
        "id": "_7yof7gyK3yx",
        "colab_type": "code",
        "outputId": "1a02b46f-9227-4e2a-d4bc-8808cdbdb351",
        "colab": {
          "base_uri": "https://localhost:8080/",
          "height": 286
        }
      },
      "source": [
        "import numpy as np\n",
        "\n",
        "np.random.seed(1337)  # for reproducibility\n",
        "\n",
        "from keras.models import Sequential\n",
        "from keras.layers import Dense\n",
        "import matplotlib.pyplot as plt \n",
        "\n",
        "# create some data\n",
        "X = np.linspace(-1, 1, 200)\n",
        "np.random.shuffle(X)    # randomize the data\n",
        "Y = 0.5 * X + 2 + np.random.normal(0, 0.05, (200, ))\n",
        "\n",
        "# plot data\n",
        "plt.scatter(X, Y)\n",
        "plt.show()"
      ],
      "execution_count": 0,
      "outputs": [
        {
          "output_type": "stream",
          "text": [
            "Using TensorFlow backend.\n"
          ],
          "name": "stderr"
        },
        {
          "output_type": "display_data",
          "data": {
            "image/png": "[encoded data removed]",
            "text/plain": [
              "<Figure size 432x288 with 1 Axes>"
            ]
          },
          "metadata": {
            "tags": []
          }
        }
      ]
    },
    {
      "cell_type": "code",
      "metadata": {
        "id": "v-3t-fEtK_Ox",
        "colab_type": "code",
        "colab": {}
      },
      "source": [
        "X_train, Y_train = X[:160], Y[:160]     # train 前 160 data points\n",
        "X_test, Y_test = X[160:], Y[160:]       # test 后 40 data points"
      ],
      "execution_count": 0,
      "outputs": []
    },
    {
      "cell_type": "code",
      "metadata": {
        "id": "rvcuZG3qLEBD",
        "colab_type": "code",
        "colab": {}
      },
      "source": [
        "model = Sequential()\n",
        "model.add(Dense(output_dim=1, input_dim=1))"
      ],
      "execution_count": 0,
      "outputs": []
    },
    {
      "cell_type": "code",
      "metadata": {
        "id": "0L9qzyyHLJec",
        "colab_type": "code",
        "colab": {}
      },
      "source": [
        "# choose loss function and optimizing method\n",
        "model.compile(loss='mse', optimizer='sgd')"
      ],
      "execution_count": 0,
      "outputs": []
    },
    {
      "cell_type": "code",
      "metadata": {
        "id": "XNYnkYOCLR96",
        "colab_type": "code",
        "colab": {}
      },
      "source": [
        "# training\n",
        "print('Training -----------')\n",
        "for step in range(301):\n",
        "    cost = model.train_on_batch(X_train, Y_train)\n",
        "    if step % 100 == 0:\n",
        "        print('train cost: ', cost)"
      ],
      "execution_count": 0,
      "outputs": []
    },
    {
      "cell_type": "code",
      "metadata": {
        "id": "2HiqKRDeLUnW",
        "colab_type": "code",
        "colab": {}
      },
      "source": [
        "# test\n",
        "print('\\nTesting ------------')\n",
        "cost = model.evaluate(X_test, Y_test, batch_size=40)\n",
        "print('test cost:', cost)\n",
        "W, b = model.layers[0].get_weights()\n",
        "print('Weights=', W, '\\nbiases=', b)\n"
      ],
      "execution_count": 0,
      "outputs": []
    },
    {
      "cell_type": "code",
      "metadata": {
        "id": "Og68ZR-HLayA",
        "colab_type": "code",
        "outputId": "135eb8e5-ae3c-4dfc-8c00-ca898ccee30f",
        "colab": {
          "base_uri": "https://localhost:8080/",
          "height": 269
        }
      },
      "source": [
        "# plotting the prediction\n",
        "Y_pred = model.predict(X_test)\n",
        "plt.scatter(X_test, Y_test)\n",
        "plt.plot(X_test, Y_pred)\n",
        "plt.show()"
      ],
      "execution_count": 0,
      "outputs": [
        {
          "output_type": "display_data",
          "data": {
            "image/png": "[encoded data removed]",
            "text/plain": [
              "<Figure size 432x288 with 1 Axes>"
            ]
          },
          "metadata": {
            "tags": []
          }
        }
      ]
    }
  ]
}