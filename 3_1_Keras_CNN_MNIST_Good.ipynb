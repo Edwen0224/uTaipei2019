{
  "nbformat": 4,
  "nbformat_minor": 0,
  "metadata": {
    "colab": {
      "name": "3_1_Keras_CNN_MNIST_Good.ipynb",
      "version": "0.3.2",
      "provenance": [],
      "include_colab_link": true
    },
    "kernelspec": {
      "name": "python3",
      "display_name": "Python 3"
    }
  },
  "cells": [
    {
      "cell_type": "markdown",
      "metadata": {
        "id": "view-in-github",
        "colab_type": "text"
      },
      "source": [
        "<a href=\"https://colab.research.google.com/github/MyDearGreatTeacher/uTaipei2019/blob/master/3_1_Keras_CNN_MNIST_Good.ipynb\" target=\"_parent\"><img src=\"https://colab.research.google.com/assets/colab-badge.svg\" alt=\"Open In Colab\"/></a>"
      ]
    },
    {
      "cell_type": "code",
      "metadata": {
        "id": "wIOZrGmzqGBN",
        "colab_type": "code",
        "outputId": "5b47b80f-da6e-4abd-d3ec-eb9696c3ce69",
        "colab": {
          "base_uri": "https://localhost:8080/",
          "height": 815
        }
      },
      "source": [
        "from keras.datasets import mnist\n",
        "import numpy as np\n",
        "from keras.models import Sequential\n",
        "from keras.layers import Dense\n",
        "from keras.layers import Dropout\n",
        "from keras.layers import Flatten\n",
        "from keras.layers.convolutional import  Conv2D\n",
        "from keras.layers.convolutional import MaxPooling2D\n",
        "from keras.utils import np_utils\n",
        "from keras import backend\n",
        "backend.set_image_data_format('channels_first')\n",
        "\n",
        "\n",
        "# 設定隨機種子\n",
        "seed = 7\n",
        "np.random.seed(seed)\n",
        "\n",
        "# 從Keras導入Mnist資料集\n",
        "(X_train, y_train), (X_validation, y_validation) = mnist.load_data()\n",
        "\n",
        "X_train = X_train.reshape(X_train.shape[0], 1, 28, 28).astype('float32')\n",
        "X_validation = X_validation.reshape(X_validation.shape[0], 1, 28, 28).astype('float32')\n",
        "\n",
        "# 格式化資料到0-1之前\n",
        "X_train = X_train / 255\n",
        "X_validation = X_validation / 255\n",
        "\n",
        "# one-hot編碼\n",
        "y_train = np_utils.to_categorical(y_train)\n",
        "y_validation = np_utils.to_categorical(y_validation)\n",
        "\n",
        "# 創建模型\n",
        "def create_model():\n",
        "    model = Sequential()\n",
        "    model.add(Conv2D(30, (5, 5), input_shape=(1, 28, 28), activation='relu'))\n",
        "    model.add(MaxPooling2D(pool_size=(2, 2)))\n",
        "    model.add(Conv2D(15, (3, 3), activation='relu'))\n",
        "    model.add(MaxPooling2D(pool_size=(2, 2)))\n",
        "    model.add(Dropout(0.2))\n",
        "    model.add(Flatten())\n",
        "    model.add(Dense(units=128, activation='relu'))\n",
        "    model.add(Dense(units=50, activation='relu'))\n",
        "    model.add(Dense(units=10, activation='softmax'))\n",
        "\n",
        "    # 編譯模型\n",
        "    model.compile(loss='categorical_crossentropy', optimizer='adam', metrics=['accuracy'])\n",
        "    return model\n",
        "\n",
        "model = create_model()\n",
        "\n",
        "model.summary()\n",
        "\n",
        "model.fit(X_train, y_train, epochs=10, batch_size=200, verbose=2)\n",
        "\n",
        "score = model.evaluate(X_validation, y_validation, verbose=0)\n",
        "print('CNN_Large: %.2f%%' % (score[1] * 100))\n"
      ],
      "execution_count": 0,
      "outputs": [
        {
          "output_type": "stream",
          "text": [
            "_________________________________________________________________\n",
            "Layer (type)                 Output Shape              Param #   \n",
            "=================================================================\n",
            "conv2d_3 (Conv2D)            (None, 30, 24, 24)        780       \n",
            "_________________________________________________________________\n",
            "max_pooling2d_3 (MaxPooling2 (None, 30, 12, 12)        0         \n",
            "_________________________________________________________________\n",
            "conv2d_4 (Conv2D)            (None, 15, 10, 10)        4065      \n",
            "_________________________________________________________________\n",
            "max_pooling2d_4 (MaxPooling2 (None, 15, 5, 5)          0         \n",
            "_________________________________________________________________\n",
            "dropout_2 (Dropout)          (None, 15, 5, 5)          0         \n",
            "_________________________________________________________________\n",
            "flatten_2 (Flatten)          (None, 375)               0         \n",
            "_________________________________________________________________\n",
            "dense_4 (Dense)              (None, 128)               48128     \n",
            "_________________________________________________________________\n",
            "dense_5 (Dense)              (None, 50)                6450      \n",
            "_________________________________________________________________\n",
            "dense_6 (Dense)              (None, 10)                510       \n",
            "=================================================================\n",
            "Total params: 59,933\n",
            "Trainable params: 59,933\n",
            "Non-trainable params: 0\n",
            "_________________________________________________________________\n",
            "Epoch 1/10\n",
            " - 61s - loss: 0.3908 - acc: 0.8809\n",
            "Epoch 2/10\n",
            " - 61s - loss: 0.0991 - acc: 0.9696\n",
            "Epoch 3/10\n",
            " - 61s - loss: 0.0735 - acc: 0.9770\n",
            "Epoch 4/10\n",
            " - 61s - loss: 0.0605 - acc: 0.9812\n",
            "Epoch 5/10\n",
            " - 61s - loss: 0.0522 - acc: 0.9836\n",
            "Epoch 6/10\n",
            " - 61s - loss: 0.0442 - acc: 0.9859\n",
            "Epoch 7/10\n",
            " - 60s - loss: 0.0392 - acc: 0.9879\n",
            "Epoch 8/10\n",
            " - 61s - loss: 0.0357 - acc: 0.9888\n",
            "Epoch 9/10\n",
            " - 60s - loss: 0.0332 - acc: 0.9898\n",
            "Epoch 10/10\n",
            " - 61s - loss: 0.0313 - acc: 0.9898\n",
            "CNN_Large: 99.08%\n"
          ],
          "name": "stdout"
        }
      ]
    }
  ]
}