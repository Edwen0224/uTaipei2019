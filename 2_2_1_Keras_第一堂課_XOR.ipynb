{
  "nbformat": 4,
  "nbformat_minor": 0,
  "metadata": {
    "colab": {
      "name": "2_2_1_Keras 第一堂課_XOR.ipynb",
      "version": "0.3.2",
      "provenance": [],
      "collapsed_sections": [],
      "include_colab_link": true
    },
    "kernelspec": {
      "name": "python3",
      "display_name": "Python 3"
    }
  },
  "cells": [
    {
      "cell_type": "markdown",
      "metadata": {
        "id": "view-in-github",
        "colab_type": "text"
      },
      "source": [
        "<a href=\"https://colab.research.google.com/github/MyDearGreatTeacher/uTaipei2019/blob/master/2_2_1_Keras_%E7%AC%AC%E4%B8%80%E5%A0%82%E8%AA%B2_XOR.ipynb\" target=\"_parent\"><img src=\"https://colab.research.google.com/assets/colab-badge.svg\" alt=\"Open In Colab\"/></a>"
      ]
    },
    {
      "cell_type": "markdown",
      "metadata": {
        "id": "lzFDAE0hAq6C",
        "colab_type": "text"
      },
      "source": [
        "# Keras 第一堂課"
      ]
    },
    {
      "cell_type": "markdown",
      "metadata": {
        "id": "zt5MPs4ZAzi5",
        "colab_type": "text"
      },
      "source": [
        "## 解XOR 問題"
      ]
    },
    {
      "cell_type": "code",
      "metadata": {
        "id": "Mv-gNCYoAWeR",
        "colab_type": "code",
        "colab": {}
      },
      "source": [
        "from keras.models import Sequential\n",
        "from keras.layers.core import Dense, Dropout, Activation\n",
        "from keras.optimizers import SGD\n",
        "import numpy as np \n",
        "\n",
        "X = np.array([[0,0],[0,1],[1,0],[1,1]])\n",
        "y = np.array([[0],[1],[1],[0]])\n",
        "\n",
        "model = Sequential()\n",
        "model.add(Dense(8, input_dim=2))\n",
        "model.add(Activation('tanh'))\n",
        "model.add(Dense(1))\n",
        "model.add(Activation('sigmoid'))\n",
        "\n",
        "sgd = SGD(lr=0.1)\n",
        "model.summary()\n",
        "model.compile(loss='binary_crossentropy', optimizer=sgd)\n",
        "\n",
        "\n",
        "model.fit(X, y, batch_size=1, nb_epoch=1000)\n",
        "#model.fit(X, y, show_accuracy=True, batch_size=1, nb_epoch=1000)\n",
        "\n",
        "print(model.predict_proba(X))"
      ],
      "execution_count": 0,
      "outputs": []
    }
  ]
}